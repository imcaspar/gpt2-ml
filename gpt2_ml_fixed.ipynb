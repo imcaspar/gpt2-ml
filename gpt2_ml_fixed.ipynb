{
  "nbformat": 4,
  "nbformat_minor": 0,
  "metadata": {
    "colab": {
      "name": "gpt2-ml-fixed.ipynb",
      "provenance": [],
      "collapsed_sections": [],
      "authorship_tag": "ABX9TyP0dhFR79FyOYwWk7vY8dkn",
      "include_colab_link": true
    },
    "kernelspec": {
      "name": "python3",
      "display_name": "Python 3"
    },
    "language_info": {
      "name": "python"
    }
  },
  "cells": [
    {
      "cell_type": "markdown",
      "metadata": {
        "id": "view-in-github",
        "colab_type": "text"
      },
      "source": [
        "<a href=\"https://colab.research.google.com/github/zxkmm/gpt2-ml-fixed/blob/master/gpt2_ml_fixed.ipynb\" target=\"_parent\"><img src=\"https://colab.research.google.com/assets/colab-badge.svg\" alt=\"Open In Colab\"/></a>"
      ]
    },
    {
      "cell_type": "markdown",
      "source": [
        ""
      ],
      "metadata": {
        "id": "14G5pfZbLCya"
      }
    },
    {
      "cell_type": "markdown",
      "source": [
        "# Instructions for running/使用说明:\n",
        "## First time opration\n",
        "### 1. mount your Gdrive\n",
        "Run cell 1 to mount your Gdrive.\n",
        "### 2. Download necessery files.\n",
        "Run cell 2 to download necessary files.\n",
        "### 3. Install tesorflow\n",
        "Run cell 3\n",
        "### 4. Run!\n",
        "Set your config in cell 4 and run it\n",
        "## Second time opration\n",
        "### 1. Install tesorflow\n",
        "Run cell 3\n",
        "### 4. Run!\n",
        "Set your config in cell 4 and run it\n"
      ],
      "metadata": {
        "id": "wTJz_uQtKUbi"
      }
    },
    {
      "cell_type": "code",
      "execution_count": null,
      "metadata": {
        "id": "agzDsynLHABe"
      },
      "outputs": [],
      "source": [
        "########## Cell 1 #########\n",
        "from google.colab import drive\n",
        "drive.mount('/content/drive')\n",
        "!mkdir /content/drive/MyDrive/gptroot"
      ]
    },
    {
      "cell_type": "code",
      "source": [
        "########## Cell 2 #########\n",
        "!git clone -q https://github.com/zxkmm/gpt2-ml-fixed /content/drive/MyDrive/gptroot\n",
        "%cd /content/drive/MyDrive/gptroot/gpt2-ml\n",
        "!mkdir -p /content/drive/MyDrive/gptroot/gpt2-ml/models/mega\n",
        "!perl 3rd/gdown.pl/gdown.pl https://drive.google.com/open?id=1XDHAtKLLYAxnl2jYu4JaqCJ9VglCAB30 models/mega/model.ckpt-220000.data-00000-of-00001\n",
        "!wget -q --show-progress https://github.com/zxkmm/gpt2-ml-fixed/releases/download/v1.0/model.ckpt-220000.index -P models/mega\n",
        "!wget -q --show-progress https://github.com/zxkmm/gpt2-ml-fixed/releases/download/v1.0/model.ckpt-220000.meta -P models/mega\n",
        "!echo 'Download finished.🍺'\n",
        "# If gdown.pl failed, please uncomment following code & exec\n",
        "# !python scripts/down_gdrive_file.py -file_id='1XDHAtKLLYAxnl2jYu4JaqCJ9VglCAB30' -file_path='models/mega/model.ckpt-220000.data-00000-of-00001'"
      ],
      "metadata": {
        "id": "gIHKwaBULnXD"
      },
      "execution_count": null,
      "outputs": []
    },
    {
      "cell_type": "code",
      "source": [
        "########## Cell 3 #########\n",
        "!pip install -I tensorflow-gpu==1.15.4 &> tmp.log"
      ],
      "metadata": {
        "id": "da0E3aOMLuNZ"
      },
      "execution_count": null,
      "outputs": []
    },
    {
      "cell_type": "code",
      "source": [
        "########## Cell 4 #########\n",
        "#@title #Inference\n",
        "%cd /content/drive/MyDrive/gptroot/gpt2-ml\n",
        "min_len = 150#@param {type:\"number\", min:5, max:1024, step:1}\n",
        "sp_num = 2#@param {type:\"number\", min:1, max:50, step:1}\n",
        "!PYTHONPATH=$(pwd) python scripts/demo.py -ckpt_fn models/mega/model.ckpt-220000 -min_len $min_len -samples $sp_num"
      ],
      "metadata": {
        "id": "yhDIsr-hOwqm"
      },
      "execution_count": null,
      "outputs": []
    }
  ]
}